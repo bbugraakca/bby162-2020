{
  "nbformat": 4,
  "nbformat_minor": 0,
  "metadata": {
    "colab": {
      "name": "Basit_katalog.ipynb",
      "provenance": [],
      "collapsed_sections": [],
      "authorship_tag": "ABX9TyOhpk19tpP9JNDObqtiWlZv",
      "include_colab_link": true
    },
    "kernelspec": {
      "name": "python3",
      "display_name": "Python 3"
    }
  },
  "cells": [
    {
      "cell_type": "markdown",
      "metadata": {
        "id": "view-in-github",
        "colab_type": "text"
      },
      "source": [
        "<a href=\"https://colab.research.google.com/github/isikgor/bby162-2020/blob/master/Basit_katalog.ipynb\" target=\"_parent\"><img src=\"https://colab.research.google.com/assets/colab-badge.svg\" alt=\"Open In Colab\"/></a>"
      ]
    },
    {
      "cell_type": "code",
      "metadata": {
        "id": "7ypgPLTldAFO",
        "colab_type": "code",
        "outputId": "f7d52d2e-5595-4cad-8cbe-335ac598e448",
        "colab": {
          "base_uri": "https://localhost:8080/",
          "height": 74
        }
      },
      "source": [
        "from google.colab import drive\n",
        "drive.mount(\"/gdrive\",force_remount=True)\n",
        "\n",
        "\n",
        "dosya = \"/gdrive/My Drive/test.txt\"\n",
        "\n",
        "tum_veri = []\n",
        "\n",
        "\n",
        "def veri_oku():\n",
        "    okuyucu = open(dosya,\"r\",encoding = \"cp1254\")\n",
        "    veriler = []\n",
        "\n",
        "    for satir in okuyucu.read().strip().split(\"\\n\"):\n",
        "        veri = satir.strip().split(\"|\")\n",
        "        veriler += [veri]\n",
        "\n",
        "    okuyucu.close()\n",
        "    return veriler\n",
        "\n",
        "\n",
        "def ara(anahtar_kelime):\n",
        "    bulunan = []\n",
        "    for veri in tum_veri:\n",
        "      if len(veri) > 1 and veri[0] == anahtar_kelime or veri[1] == anahtar_kelime or veri[2] == anahtar_kelime or veri[3] == anahtar_kelime:\n",
        "          bulunan = veri\n",
        "    return bulunan\n",
        "\n",
        "def main():\n",
        "  try:\n",
        "    global tum_veri\n",
        "    tum_veri = veri_oku()\n",
        "    bul = ara(input(\"Aranacak kelimeyi giriniz...: \"))\n",
        "    if bul != []:\n",
        "        print(\"-\"*15)\n",
        "        print(\"Eser ismi:\",bul[1],\"\\nYazarı:\",bul[0],\"\\nBasım yılı:\",bul[2],\"\\nYayınevi:\",bul[3])\n",
        "    else:\n",
        "        print(\"Aramanız ile ilgili bir eşleşme bulunamadı. Lütfen Tekrar deneyiniz \")\n",
        "  except:\n",
        "    print(\"Hata ile karşılaşıldı.\")\n",
        "    \n",
        "main()\n",
        "\n"
      ],
      "execution_count": 0,
      "outputs": [
        {
          "output_type": "stream",
          "text": [
            "Mounted at /gdrive\n"
          ],
          "name": "stdout"
        }
      ]
    }
  ]
}