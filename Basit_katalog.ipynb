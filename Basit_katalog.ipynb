{
  "nbformat": 4,
  "nbformat_minor": 0,
  "metadata": {
    "colab": {
      "name": "Basit_katalog.ipynb",
      "provenance": [],
      "collapsed_sections": [],
      "authorship_tag": "ABX9TyMsLabxoHRq0S4A9MejTe35",
      "include_colab_link": true
    },
    "kernelspec": {
      "name": "python3",
      "display_name": "Python 3"
    }
  },
  "cells": [
    {
      "cell_type": "markdown",
      "metadata": {
        "id": "view-in-github",
        "colab_type": "text"
      },
      "source": [
        "<a href=\"https://colab.research.google.com/github/isikgor/bby162-2020/blob/master/Basit_katalog.ipynb\" target=\"_parent\"><img src=\"https://colab.research.google.com/assets/colab-badge.svg\" alt=\"Open In Colab\"/></a>"
      ]
    },
    {
      "cell_type": "code",
      "metadata": {
        "id": "7ypgPLTldAFO",
        "colab_type": "code",
        "outputId": "b79ed5e7-16ba-4782-e2de-e28e3ad3fdcb",
        "colab": {
          "base_uri": "https://localhost:8080/",
          "height": 70
        }
      },
      "source": [
        "from google.colab import drive\n",
        "drive.mount(\"/gdrive\",force_remount=True)\n",
        "\n",
        "\n",
        "file = \"/gdrive/My Drive/test.txt\"\n",
        "\n",
        "main_data = []\n",
        "\n",
        "\n",
        "def read_data():\n",
        "    stream = open(file,\"r\",encoding = \"UTF-8\")\n",
        "    all_data = []\n",
        "\n",
        "    for line in stream.read().split(\"\\n\"):\n",
        "        data = line.strip().split(\"|\")\n",
        "        all_data += [data]\n",
        "\n",
        "    stream.close()\n",
        "    return all_data\n",
        "\n",
        "\n",
        "def search(book_name):\n",
        "    found = []\n",
        "    for data in main_data:\n",
        "        if data[0] == book_name:\n",
        "            found = data\n",
        "    return found\n",
        "\n",
        "def main():\n",
        "    try:\n",
        "        global main_data\n",
        "        main_data = read_data()\n",
        "        found = search(input(\"Aranacak eser ismi: \").strip())\n",
        "        if found != []:\n",
        "            print(\"-\"*15)\n",
        "            print(\"Eser ismi:\",found[0],\"\\nYazarı:\",found[1],\"\\nBasım yılı:\",found[2],\"\\nYayınevi:\",found[3])\n",
        "        else:\n",
        "            print(\"Eser bulunamadı. \")\n",
        "    except Exception as ex:\n",
        "        print(ex.message)\n",
        "main()\n",
        "\n"
      ],
      "execution_count": 0,
      "outputs": [
        {
          "output_type": "stream",
          "text": [
            "Mounted at /gdrive\n",
            "Aranacak eser ismi: kitap 1\n",
            "Eser bulunamadı. \n"
          ],
          "name": "stdout"
        }
      ]
    }
  ]
}