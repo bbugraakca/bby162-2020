{
  "nbformat": 4,
  "nbformat_minor": 0,
  "metadata": {
    "colab": {
      "name": "Copy of Untitled1.ipynb",
      "provenance": [],
      "authorship_tag": "ABX9TyMSv3AkVpIXLxLw1JcV8eQm",
      "include_colab_link": true
    },
    "kernelspec": {
      "name": "python3",
      "display_name": "Python 3"
    }
  },
  "cells": [
    {
      "cell_type": "markdown",
      "metadata": {
        "id": "view-in-github",
        "colab_type": "text"
      },
      "source": [
        "<a href=\"https://colab.research.google.com/github/isikgor/bby162/blob/master/ders2.ipynb\" target=\"_parent\"><img src=\"https://colab.research.google.com/assets/colab-badge.svg\" alt=\"Open In Colab\"/></a>"
      ]
    },
    {
      "cell_type": "code",
      "metadata": {
        "id": "49q24qVQmIGw",
        "colab_type": "code",
        "outputId": "fddd5f81-1881-4bc2-fa93-d1f7d2a24bc4",
        "colab": {
          "base_uri": "https://localhost:8080/",
          "height": 102
        }
      },
      "source": [
        "urunAdi = \"Bisiklet\"\n",
        "butce = 3000\n",
        "urunFiyati = 1000\n",
        "urunAdet = 6\n",
        "urunOdeme = urunFiyati * urunAdet\n",
        "print(urunOdeme)\n",
        "print(\"Bütçeniz: \" + str(butce))\n",
        "print(\"Toplam fiyat: \" + str(urunOdeme))\n",
        "sonuc = butce > urunOdeme\n",
        "print(\"Almak istediğiniz \" + str(urunAdet)+ \" \" + urunAdi + \" \" + str(urunOdeme)+ \" TL'dir.\")\n",
        "print(\"Alabilir misiniz? \"+ str(sonuc))"
      ],
      "execution_count": 0,
      "outputs": [
        {
          "output_type": "stream",
          "text": [
            "6000\n",
            "Bütçeniz: 3000\n",
            "Toplam fiyat: 6000\n",
            "Almak istediğiniz 6 Bisiklet 6000 TL'dir.\n",
            "Alabilir misiniz? False\n"
          ],
          "name": "stdout"
        }
      ]
    }
  ]
}