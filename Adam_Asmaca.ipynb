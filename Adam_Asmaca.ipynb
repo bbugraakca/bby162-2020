{
  "nbformat": 4,
  "nbformat_minor": 0,
  "metadata": {
    "colab": {
      "name": "Adam Asmaca.ipynb",
      "provenance": [],
      "authorship_tag": "ABX9TyMD91GG1+wosIGOkMvoINzk",
      "include_colab_link": true
    },
    "kernelspec": {
      "name": "python3",
      "display_name": "Python 3"
    }
  },
  "cells": [
    {
      "cell_type": "markdown",
      "metadata": {
        "id": "view-in-github",
        "colab_type": "text"
      },
      "source": [
        "<a href=\"https://colab.research.google.com/github/isikgor/bby162/blob/master/Adam_Asmaca.ipynb\" target=\"_parent\"><img src=\"https://colab.research.google.com/assets/colab-badge.svg\" alt=\"Open In Colab\"/></a>"
      ]
    },
    {
      "cell_type": "markdown",
      "metadata": {
        "id": "ommgu5M4Gbhh",
        "colab_type": "text"
      },
      "source": [
        "## produced by ABDULKADİR"
      ]
    },
    {
      "cell_type": "code",
      "metadata": {
        "colab_type": "code",
        "id": "QffNb0HzgPdD",
        "colab": {}
      },
      "source": [
        "from random import randint\n",
        "\n",
        "Can = 3\n",
        "\n",
        "İ=0\n",
        "\n",
        "kelimeler = [\"hitler\",\"almanya\",\"ordu\",\"deney\",\"fırın\",\"ateş\",\"baygın\"]\n",
        "\n",
        "kelimeSayisi = len(kelimeler)\n",
        "\n",
        "secilen = randint(0,6)\n",
        "\n",
        "secilenKelime = kelimeler[secilen]\n",
        "\n",
        "print(secilenKelime)\n",
        "\n",
        "while Can > 0 :\n",
        "\n",
        "    girilenHarf = input(\"Bir Harf Giriniz: \")\n",
        "\n",
        "    canKontrol = girilenHarf in secilenKelime\n",
        "\n",
        "    if canKontrol == False:\n",
        "\n",
        "        Can-=1\n",
        "\n",
        "    i = 0\n",
        "\n",
        "    for kontrol in secilenKelime:\n",
        "\n",
        "        if secilenKelime[i] == girilenHarf:\n",
        "\n",
        "            dizilenKelime[i] = girilenHarf\n",
        "\n",
        "        i+=1\n",
        "\n",
        "    print(dizilenKelime)\n",
        "\n",
        "    print(\"Kalan can: \"+ str(Can))"
      ],
      "execution_count": 0,
      "outputs": []
    }
  ]
}