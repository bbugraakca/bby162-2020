{
  "nbformat": 4,
  "nbformat_minor": 0,
  "metadata": {
    "colab": {
      "name": "Adam Asmaca.ipynb",
      "provenance": [],
      "authorship_tag": "ABX9TyPlCQ9uTde+l4xh3Gum5iN3",
      "include_colab_link": true
    },
    "kernelspec": {
      "name": "python3",
      "display_name": "Python 3"
    }
  },
  "cells": [
    {
      "cell_type": "markdown",
      "metadata": {
        "id": "view-in-github",
        "colab_type": "text"
      },
      "source": [
        "<a href=\"https://colab.research.google.com/github/isikgor/bby162/blob/master/Adam_Asmaca.ipynb\" target=\"_parent\"><img src=\"https://colab.research.google.com/assets/colab-badge.svg\" alt=\"Open In Colab\"/></a>"
      ]
    },
    {
      "cell_type": "markdown",
      "metadata": {
        "id": "ommgu5M4Gbhh",
        "colab_type": "text"
      },
      "source": [
        "## produced by ABDULKADİR"
      ]
    },
    {
      "cell_type": "code",
      "metadata": {
        "id": "8n6yJ5eGlwt-",
        "colab_type": "code",
        "colab": {
          "base_uri": "https://localhost:8080/",
          "height": 70
        },
        "outputId": "f1e1a9dd-253d-459f-8154-ce1bcdbf8ff2"
      },
      "source": [
        "from random import randint\n",
        "\n",
        "Can = 3\n",
        "kelimeler=[\"github\",\"yazılım\",\"bilgisayar\",\"hitler\"]\n",
        "sozcukler = len(kelimeler)\n",
        "secilenler = randint(0,3)\n",
        "secilenKelime = kelimeler[secilenler]\n",
        "print(secilenKelime)\n",
        "kelime = []\n",
        "for ekle in kelimeler[secilenler]:\n",
        "    kelime.append(\"_\")\n",
        "print(kelime)\n",
        "\n",
        "while Can != 0:\n",
        "    harf = input(\"Bir harf giriniz: \")\n",
        "    iceriyormu = harf in secilenKelime\n",
        "    if iceriyormu == False:\n",
        "       Can=Can-1\n",
        "    i = 0\n",
        "    for varsa in secilenKelime:\n",
        "        if secilenKelime[i] == harf:\n",
        "            kelime[i] = harf\n",
        "        i+=1\n",
        "    print(kelime)\n",
        "    print(\"Kalan canınız: \"+ str(Can))\n",
        "    if Can==0:\n",
        "      print(\"Tekrar Deneyiniz\")\n",
        "    \n",
        "    if \"_\" not in kelime:\n",
        "      print(\"Tebrikler.\")"
      ],
      "execution_count": 0,
      "outputs": [
        {
          "output_type": "stream",
          "text": [
            "bilgisayar\n",
            "['_', '_', '_', '_', '_', '_', '_', '_', '_', '_']\n"
          ],
          "name": "stdout"
        }
      ]
    }
  ]
}