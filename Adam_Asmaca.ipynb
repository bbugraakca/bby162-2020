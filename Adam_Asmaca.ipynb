{
  "nbformat": 4,
  "nbformat_minor": 0,
  "metadata": {
    "colab": {
      "name": "Adam Asmaca.ipynb",
      "provenance": [],
      "authorship_tag": "ABX9TyM/1DmAaBuVCNQ4qgMczjJk",
      "include_colab_link": true
    },
    "kernelspec": {
      "name": "python3",
      "display_name": "Python 3"
    }
  },
  "cells": [
    {
      "cell_type": "markdown",
      "metadata": {
        "id": "view-in-github",
        "colab_type": "text"
      },
      "source": [
        "<a href=\"https://colab.research.google.com/github/isikgor/bby162/blob/master/Adam_Asmaca.ipynb\" target=\"_parent\"><img src=\"https://colab.research.google.com/assets/colab-badge.svg\" alt=\"Open In Colab\"/></a>"
      ]
    },
    {
      "cell_type": "code",
      "metadata": {
        "colab_type": "code",
        "outputId": "441d3dcd-0502-4deb-c53f-39bb77391257",
        "id": "QffNb0HzgPdD",
        "colab": {
          "base_uri": "https://localhost:8080/",
          "height": 73
        }
      },
      "source": [
        "import random\n",
        "oyuncu = 3\n",
        "i = 0\n",
        "kelimeler = random.sec([\"israil\", \"yahudi\", \"fırın\", \"hitler\", \"deney\"])\n",
        "sozcuk = []\n",
        "for kelime in kelimeler:\n",
        "    sozcuk.append(\"\")\n",
        "print(sozcuk)\n",
        "\n",
        "while oyuncu > 0:\n",
        "    girilenHarf = input(\"Bir harf giriniz: \")\n",
        "\n",
        "    if girilenHarf in kelimeler:\n",
        "        for kontrol in kelimeler:\n",
        "            if kelimeler [i] == girilenHarf:\n",
        "                sozcuk [i] = girilenHarf\n",
        "            i+=1\n",
        "        print(sozcuk)\n",
        "        print(\"Bir harf bildiniz!\")\n",
        "        i=0\n",
        "\n",
        "    kontrol = girilenHarf in kelimeler\n",
        "    if kontrol == False:\n",
        "        oyuncu-=1\n",
        "    print(\"Kalan can: \", oyuncu)\n",
        "    i=0\n",
        "\n",
        "if oyuncu == 0:\n",
        "    print(\"Oyunu kaybettiniz!\")"
      ],
      "execution_count": 0,
      "outputs": [
        {
          "output_type": "stream",
          "text": [
            "['', '', '', '', '', '']\n"
          ],
          "name": "stdout"
        }
      ]
    },
    {
      "cell_type": "code",
      "metadata": {
        "colab_type": "code",
        "id": "exxf7ej8gO-6",
        "colab": {}
      },
      "source": [
        ""
      ],
      "execution_count": 0,
      "outputs": []
    }
  ]
}