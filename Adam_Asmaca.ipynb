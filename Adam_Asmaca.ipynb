{
  "nbformat": 4,
  "nbformat_minor": 0,
  "metadata": {
    "colab": {
      "name": "Adam Asmaca.ipynb",
      "provenance": [],
      "authorship_tag": "ABX9TyPy54eHxxFOUflKYFOz3cYH",
      "include_colab_link": true
    },
    "kernelspec": {
      "name": "python3",
      "display_name": "Python 3"
    }
  },
  "cells": [
    {
      "cell_type": "markdown",
      "metadata": {
        "id": "view-in-github",
        "colab_type": "text"
      },
      "source": [
        "<a href=\"https://colab.research.google.com/github/isikgor/bby162/blob/master/Adam_Asmaca.ipynb\" target=\"_parent\"><img src=\"https://colab.research.google.com/assets/colab-badge.svg\" alt=\"Open In Colab\"/></a>"
      ]
    },
    {
      "cell_type": "code",
      "metadata": {
        "colab_type": "code",
        "outputId": "e912abd3-9642-447e-ab94-51b8d5878e00",
        "id": "QffNb0HzgPdD",
        "colab": {
          "base_uri": "https://localhost:8080/",
          "height": 433
        }
      },
      "source": [
        "#ABDULKADİR IŞIKGÖR\n",
        "#This game is produced by ABDULKADİR\n",
        "from random import randint\n",
        "Can = 3\n",
        "İ=0\n",
        "kelimeler = [\"hitler\",\"almanya\",\"ordu\",\"deney\",\"fırın\",\"ateş\",\"baygın\"]\n",
        "kelimeSayisi = len(kelimeler)\n",
        "secilen = randint(0,6)\n",
        "secilenKelime = kelimeler[secilen]\n",
        "print(secilenKelime)\n",
        "while Can > 0 :\n",
        "    girilenHarf = input(\"Bir Harf Giriniz: \")\n",
        "    canKontrol = girilenHarf in secilenKelime\n",
        "    if canKontrol == False:\n",
        "        Can-=1\n",
        "    i = 0\n",
        "    for kontrol in secilenKelime:\n",
        "        if secilenKelime[i] == girilenHarf:\n",
        "            dizilenKelime[i] = girilenHarf\n",
        "        i+=1\n",
        "    print(dizilenKelime)\n",
        "    print(\"Kalan can: \"+ str(Can))"
      ],
      "execution_count": 64,
      "outputs": [
        {
          "output_type": "stream",
          "text": [
            "almanya\n",
            "Bir Harf Giriniz: a\n",
            "['a', '_', '_', 'a', '_', '_', 'a']\n",
            "Kalan can: 3\n",
            "Bir Harf Giriniz: l\n",
            "['a', 'l', '_', 'a', '_', '_', 'a']\n",
            "Kalan can: 3\n",
            "Bir Harf Giriniz: m\n",
            "['a', 'l', 'm', 'a', '_', '_', 'a']\n",
            "Kalan can: 3\n",
            "Bir Harf Giriniz: a\n",
            "['a', 'l', 'm', 'a', '_', '_', 'a']\n",
            "Kalan can: 3\n",
            "Bir Harf Giriniz: n\n",
            "['a', 'l', 'm', 'a', 'n', '_', 'a']\n",
            "Kalan can: 3\n",
            "Bir Harf Giriniz: s\n",
            "['a', 'l', 'm', 'a', 'n', '_', 'a']\n",
            "Kalan can: 2\n",
            "Bir Harf Giriniz: s\n",
            "['a', 'l', 'm', 'a', 'n', '_', 'a']\n",
            "Kalan can: 1\n",
            "Bir Harf Giriniz: s\n",
            "['a', 'l', 'm', 'a', 'n', '_', 'a']\n",
            "Kalan can: 0\n"
          ],
          "name": "stdout"
        }
      ]
    }
  ]
}